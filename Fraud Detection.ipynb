{
 "cells": [
  {
   "cell_type": "code",
   "execution_count": null,
   "metadata": {},
   "outputs": [],
   "source": [
    "import pandas as pd\n",
    "from sklearn.preprocessing import label_binarize\n",
    "import numpy as np\n",
    "from sklearn.model_selection import train_test_split\n",
    "from sklearn.ensemble import RandomForestClassifier\n",
    "from sklearn.tree import DecisionTreeClassifier\n",
    "from sklearn.model_selection import GridSearchCV\n",
    "from sklearn.model_selection import RandomizedSearchCV\n",
    "from sklearn.model_selection import cross_val_score\n",
    "from sklearn.metrics import classification_report, confusion_matrix\n",
    "from sklearn.ensemble import GradientBoostingClassifier"
   ]
  },
  {
   "cell_type": "code",
   "execution_count": null,
   "metadata": {},
   "outputs": [],
   "source": [
    "trainfile = r'/gdrive/My Drive/CIS 508/HW2/Fraud Detection/Insurance Fraud - TRAIN-3000.csv'\n",
    "trainData = pd.read_csv(trainfile) #creates a dataframe\n",
    "testfile = r'/gdrive/My Drive/CIS 508/HW2/Fraud Detection/Insurance Fraud -TEST-12900.csv'\n",
    "testData = pd.read_csv(testfile) #creates a dataframe\n",
    "\n",
    "#print sizes (shape) of datasets\n",
    "print(trainData.shape)\n",
    "print(testData.shape)\n",
    "\n",
    "trainData.head()\n",
    "testData.head()"
   ]
  },
  {
   "cell_type": "code",
   "execution_count": null,
   "metadata": {},
   "outputs": [],
   "source": [
    "#Copy Train data excluding target\n",
    "trainData_Copy = trainData.iloc[:, :-1].copy()\n",
    "testData_Copy = testData.iloc[:, :-1].copy()\n",
    "\n",
    "trainData_Copy.head()"
   ]
  },
  {
   "cell_type": "code",
   "execution_count": null,
   "metadata": {},
   "outputs": [],
   "source": [
    "#List of Categorical Features\n",
    "# categoricalFeatures = [\"MONTH\", \"DAYOFWEEK\", 'MAKE', \"ACCIDENTAREA\", \"DAYOFWEEKCLAIMED\", \"MONTHCLAIMED\", 'SEX', 'MARITALSTATUS', 'FAULT', 'POLICYTYPE', 'VEHICLECATEGORY', 'VEHICLEPRICE', 'DAYS_POLICY_ACCIDENT', 'DAYS_POLICY_CLAIM', 'PASTNUMBEROFCLAIMS', 'AGEOFVEHICLE', 'AGEOFPOLICYHOLDER', 'POLICEREPORTFILED','WITNESSPRESENT', 'AGENTTYPE', 'NUMBEROFSUPPLIMENTS', 'ADDRESSCHANGE_CLAIM', 'NUMBEROFCARS', 'BASEPOLICY']\n",
    "\n",
    "#Combine Train and test for one Hot Encoding\n",
    "combined_Data = pd.concat([trainData_Copy,testData_Copy], keys=[0,1])\n",
    "\n",
    "#Do one Hot encoding for categorical features\n",
    "combined_Data = pd.get_dummies(combined_Data,columns=categoricalFeatures)\n",
    "\n",
    "#Separate Train data and test data\n",
    "X_train = combined_Data.xs(0)\n",
    "X_test = combined_Data.xs(1)\n",
    "\n",
    "X_test.head()"
   ]
  },
  {
   "cell_type": "code",
   "execution_count": null,
   "metadata": {},
   "outputs": [],
   "source": [
    "y_train = trainData[\"FRAUDFOUND\"]\n",
    "#X_train = trainData.drop([\"FRAUDFOUND\"], axis=1) #extracting training data without the target column\n",
    "y_test = testData[\"FRAUDFOUND\"]\n",
    "#X_test = testData.drop([\"FRAUDFOUND\"], axis=1) #extracting training data without the target column"
   ]
  },
  {
   "cell_type": "code",
   "execution_count": null,
   "metadata": {},
   "outputs": [],
   "source": [
    "#CONSTRUCT DEFAULT DECISION TREE AND OBTAIN RESPECTIVE ACCURACY \n",
    "clf = DecisionTreeClassifier()\n",
    "clf.fit(X_train, y_train)\n",
    "clf_predict=clf.predict(X_test)\n",
    "print(\"accuracy Score (test) for Decision Tree:{0:6f}\".format(clf.score(X_test,y_test)))\n",
    "print(\"Confusion Matrix for Decision Tree\")\n",
    "print(confusion_matrix(y_test,clf_predict))"
   ]
  },
  {
   "cell_type": "code",
   "execution_count": null,
   "metadata": {},
   "outputs": [],
   "source": [
    "#Hyperparameter tuning done for decision tree classifier\n",
    "#RANDOM SEARCH--------------------------------------------\n",
    "print(\"RandomizedSearchCV-Decision tree\")\n",
    "parameters={'min_samples_leaf' : range(10,100,10),'max_depth': range(5,30,5),'criterion':['gini','entropy']}\n",
    "clf_random = RandomizedSearchCV(clf,parameters,n_iter=15,cv=5)\n",
    "clf_random.fit(X_train, y_train)\n",
    "grid_parm=clf_random.best_params_\n",
    "print(grid_parm)\n",
    "\n",
    "#GRID SEARCH----------------------------------------\n",
    "print(\"GridSearchCV-Decision tree\")\n",
    "clf_grid = GridSearchCV(clf,parameters)\n",
    "clf_grid.fit(X_train, y_train)\n",
    "grid_parm1=clf_grid.best_params_\n",
    "print(grid_parm1)"
   ]
  },
  {
   "cell_type": "code",
   "execution_count": null,
   "metadata": {},
   "outputs": [],
   "source": [
    "#Using the parameters obtained from HyperParameterTuning in the DecisionTreeClassifier \n",
    "clf = DecisionTreeClassifier(**grid_parm)\n",
    "clfr = DecisionTreeClassifier(**grid_parm1)\n",
    "\n",
    "clf.fit(X_train,y_train)\n",
    "clf_predict = clf.predict(X_test)\n",
    "clfr.fit(X_train,y_train)\n",
    "clfr_predict = clfr.predict(X_test)\n",
    "\n",
    "\n",
    "#Obtain accuracy ,confusion matrix,classification report and AUC values for the result above.\n",
    "print(\"accuracy Score (training) after hypertuning randomized search for Decision Tree:{0:6f}\".format(clf.score(X_train,y_train)))\n",
    "\n",
    "print(\"accuracy Score (testing) after hypertuning grid search for Decision Tree:{0:6f}\".format(clfr.score(X_test,y_test)))\n",
    "print(\"Confusion Matrix after hypertuning for Decision Tree\")\n",
    "print(confusion_matrix(y_test,clf_predict))\n",
    "print(\"=== Classification Report ===\")\n",
    "print(classification_report(y_test,clf_predict))\n",
    "\n",
    "clf_cv_score = cross_val_score(clf, X_train, y_train, cv=10, scoring=\"balanced_accuracy\")\n",
    "print(clf_cv_score)\n",
    "print('\\n')"
   ]
  },
  {
   "cell_type": "code",
   "execution_count": null,
   "metadata": {},
   "outputs": [],
   "source": [
    "#Normal randomforest\n",
    "rand_parameters={'min_samples_leaf' : range(10,100,10),'max_depth': range(1,10,2),'max_features':[2,3,4],'n_estimators':[20,30,40]}\n",
    "rfc = RandomForestClassifier()\n",
    "rfc.fit(X_train, y_train)\n",
    "rfc_predict=rfc.predict(X_test)\n",
    "print(\"accuracy Score (testing) for RandomForest:{0:6f}\".format(rfc.score(X_test,y_test)))\n",
    "print(\"Confusion Matrix for Random Forest:\")\n",
    "print(confusion_matrix(y_test,rfc_predict))\n",
    "\n",
    "#RANDOMIZED SEARCH----------------------------------------\n",
    "rfc_random = RandomizedSearchCV(rfc,rand_parameters,n_iter=15,cv=5)\n",
    "rfc_random.fit(X_train, y_train)\n",
    "grid_parm_rfc=rfc_random.best_params_\n",
    "print(grid_parm_rfc)\n",
    "rfc= RandomForestClassifier(**grid_parm_rfc)\n",
    "rfc.fit(X_train,y_train)\n",
    "rfc_predict = rfc.predict(X_test)\n",
    "print(\"accuracy Score (testing) after hypertuning for Random Forest:{0:6f}\".format(rfc.score(X_test,y_test)))\n",
    "print(\"Confusion Matrix after hypertuning for Random Forest:\")\n",
    "print(confusion_matrix(y_test,rfc_predict))\n",
    "print(\"=== Classification Report ===\")\n",
    "print(classification_report(y_test,rfc_predict))\n",
    "rfc_cv_score = cross_val_score(rfc, X_train, y_train)\n",
    "print(rfc_cv_score)\n",
    "print('\\n')"
   ]
  },
  {
   "cell_type": "code",
   "execution_count": null,
   "metadata": {},
   "outputs": [],
   "source": [
    "#GRADIENT BOOSTING------------------------------------------------\n",
    "search_grid={'n_estimators':[5,10,20],'learning_rate':[0.01,.1,.2],'min_samples_leaf' : range(10,100,10),'max_depth': range(1,10,2)}\n",
    "abc =GradientBoostingClassifier()\n",
    "abc.fit(X_train, y_train)\n",
    "abc_predict=abc.predict(X_test)\n",
    "print(\"accuracy Score (training) for Boosting:{0:6f}\".format(abc.score(X_test,y_test)))\n",
    "print(\"Confusion Matrix for boosting:\")\n",
    "print(confusion_matrix(y_test,abc_predict))\n",
    "abc_random = RandomizedSearchCV(abc,search_grid,n_iter=15)\n",
    "abc_random.fit(X_train, y_train)\n",
    "grid_parm_abc=abc_random.best_params_\n",
    "print(grid_parm_abc)\n",
    "abc= GradientBoostingClassifier(**grid_parm_abc)\n",
    "abc.fit(X_train,y_train)\n",
    "abc_predict = abc.predict(X_test)\n",
    "print(\"accuracy Score (training) after hypertuning for Boosting:{0:6f}\".format(abc.score(X_test,y_test)))\n",
    "print(\"Confusion Matrix after hypertuning for Boosting:\")\n",
    "print(confusion_matrix(y_test,abc_predict))\n",
    "print(\"=== Classification Report ===\")\n",
    "print(classification_report(y_test,abc_predict))\n",
    "abc_cv_score = cross_val_score(abc, X_train, y_train)\n",
    "print(abc_cv_score)\n",
    "print('\\n')"
   ]
  },
  {
   "cell_type": "code",
   "execution_count": null,
   "metadata": {},
   "outputs": [],
   "source": []
  },
  {
   "cell_type": "code",
   "execution_count": null,
   "metadata": {},
   "outputs": [],
   "source": []
  },
  {
   "cell_type": "code",
   "execution_count": null,
   "metadata": {},
   "outputs": [],
   "source": []
  }
 ],
 "metadata": {
  "kernelspec": {
   "display_name": "Python 3",
   "language": "python",
   "name": "python3"
  },
  "language_info": {
   "codemirror_mode": {
    "name": "ipython",
    "version": 3
   },
   "file_extension": ".py",
   "mimetype": "text/x-python",
   "name": "python",
   "nbconvert_exporter": "python",
   "pygments_lexer": "ipython3",
   "version": "3.7.4"
  }
 },
 "nbformat": 4,
 "nbformat_minor": 2
}
